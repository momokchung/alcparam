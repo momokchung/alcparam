{
 "cells": [
  {
   "cell_type": "code",
   "execution_count": null,
   "id": "4e05e136",
   "metadata": {},
   "outputs": [],
   "source": [
    "import numpy as np\n",
    "\n",
    "# Constants\n",
    "box_length_angstrom = 25  # in Å\n",
    "molar_mass = 46.069 # g/mol\n",
    "density = 0.78557   # g/cm^3\n",
    "\n",
    "# Constants\n",
    "angstrom_to_cm = 1e-8\n",
    "avogadro_number = 6.0221408e23\n",
    "\n",
    "# Mass of molecule in the box (g)\n",
    "box_volume_cm3 = (box_length_angstrom * angstrom_to_cm) ** 3  # cm^3\n",
    "mass_molecule = density * box_volume_cm3\n",
    "\n",
    "# Moles of molecule in the box\n",
    "moles_molecule = mass_molecule / molar_mass\n",
    "\n",
    "# Number of molecules\n",
    "num_molecules = moles_molecule * avogadro_number\n",
    "\n",
    "num_molecules"
   ]
  },
  {
   "cell_type": "code",
   "execution_count": null,
   "id": "d76e7316",
   "metadata": {},
   "outputs": [],
   "source": [
    "int(num_molecules)*9"
   ]
  },
  {
   "cell_type": "code",
   "execution_count": null,
   "id": "0bcc819f",
   "metadata": {},
   "outputs": [],
   "source": []
  }
 ],
 "metadata": {
  "kernelspec": {
   "display_name": "p4env",
   "language": "python",
   "name": "python3"
  },
  "language_info": {
   "codemirror_mode": {
    "name": "ipython",
    "version": 3
   },
   "file_extension": ".py",
   "mimetype": "text/x-python",
   "name": "python",
   "nbconvert_exporter": "python",
   "pygments_lexer": "ipython3",
   "version": "3.10.14"
  }
 },
 "nbformat": 4,
 "nbformat_minor": 5
}
