{
 "cells": [
  {
   "cell_type": "code",
   "execution_count": 1,
   "id": "8ca45023-f21b-4352-bc24-4fae53210df4",
   "metadata": {},
   "outputs": [],
   "source": [
    "import glob\n",
    "import os"
   ]
  },
  {
   "cell_type": "code",
   "execution_count": 2,
   "id": "6b53e521-24dc-4301-8ec7-e303d24ad213",
   "metadata": {},
   "outputs": [],
   "source": [
    "cwd = os.getcwd()"
   ]
  },
  {
   "cell_type": "code",
   "execution_count": 3,
   "id": "7c15059a-1583-4f94-9bdd-81dac2ee5f12",
   "metadata": {},
   "outputs": [],
   "source": [
    "baseDir = f\"{cwd}/../MP2\"\n",
    "os.chdir(baseDir)\n",
    "\n",
    "files = glob.glob(\"*_mp2.out\")\n",
    "files.sort()\n",
    "\n",
    "mp2Header = \"Filename                                 MP2/aVTZ\\n\"\n",
    "mp2Temp = \"{:33}{:16.6f}\\n\"\n",
    "\n",
    "fw = open(\"MP2.dat\",\"w\")\n",
    "fw.write(mp2Header)\n",
    "\n",
    "for mp2fn in files:\n",
    "    fn = mp2fn.split(\"_mp2.out\")[0]\n",
    "    f = open(mp2fn)\n",
    "    line = f.readlines()[-7]\n",
    "    f.close()\n",
    "    energy = float(line.split()[4])\n",
    "    fw.write(mp2Temp.format(fn, energy))\n",
    "fw.close()"
   ]
  },
  {
   "cell_type": "code",
   "execution_count": 5,
   "id": "275736e8-adaa-4b80-b46f-4e507f1a3e38",
   "metadata": {},
   "outputs": [],
   "source": [
    "baseDir = f\"{cwd}/../SAPT\"\n",
    "os.chdir(baseDir)\n",
    "\n",
    "files = glob.glob(\"*_sapt.out\")\n",
    "files.sort()\n",
    "\n",
    "saptHeader = \"Filename                           Electrostatics        Exchange      Dispersion       Induction     SAPT2+/aVTZ\\n\"\n",
    "saptTemp = \"{:33}{:16.6f}{:16.6f}{:16.6f}{:16.6f}{:16.6f}\\n\"\n",
    "\n",
    "fw = open(\"SAPT.dat\",\"w\")\n",
    "fw.write(saptHeader)\n",
    "\n",
    "for saptfn in files:\n",
    "    fn = saptfn.split(\"_sapt.out\")[0]\n",
    "    f = open(saptfn)\n",
    "    lines = f.readlines()[-52:]\n",
    "    f.close()\n",
    "    elec = float(lines[-52].split()[3])\n",
    "    exch = float(lines[-48].split()[3])\n",
    "    indn = float(lines[-42].split()[3])\n",
    "    disp = float(lines[-35].split()[3])\n",
    "    totl = float(lines[-24].split()[4])\n",
    "    fw.write(saptTemp.format(fn,elec,exch,disp,indn,totl))\n",
    "fw.close()"
   ]
  },
  {
   "cell_type": "code",
   "execution_count": 6,
   "id": "efd4298a-42fd-4f5d-9ff6-532205447693",
   "metadata": {},
   "outputs": [],
   "source": [
    "baseDir = f\"{cwd}/../ALMO\"\n",
    "os.chdir(baseDir)\n",
    "\n",
    "files = glob.glob(\"*_almo.out\")\n",
    "files.sort()\n",
    "\n",
    "almoHeader = \"Filename                           Electrostatics        Exchange      Dispersion    Polarization  ChargeTransfer     ALMO/TZVPPD\\n\"\n",
    "almoTemp = \"{:33}{:16.6f}{:16.6f}{:16.6f}{:16.6f}{:16.6f}{:16.6f}\\n\"\n",
    "\n",
    "fw = open(\"ALMO.dat\",\"w\")\n",
    "fw.write(almoHeader)\n",
    "\n",
    "kjToKcal = 1./4.184\n",
    "for almofn in files:\n",
    "    fn = almofn.split(\"_almo.out\")[0]\n",
    "    f = open(almofn)\n",
    "    lines = f.readlines()\n",
    "    f.close()\n",
    "    start = 0\n",
    "    for n,line in enumerate(lines):\n",
    "        if \"Results of EDA2\" in line:\n",
    "            start = n\n",
    "            break\n",
    "    lines = lines[start:start+45]\n",
    "    elec = float(lines[27].split()[5]) * kjToKcal\n",
    "    exch = float(lines[28].split()[5]) * kjToKcal\n",
    "    disp = float(lines[29].split()[5]) * kjToKcal\n",
    "    polr = float(lines[38].split()[1]) * kjToKcal\n",
    "    chgt = float(lines[39].split()[2]) * kjToKcal\n",
    "    totl = float(lines[40].split()[1]) * kjToKcal\n",
    "    fw.write(almoTemp.format(fn,elec,exch,disp,polr,chgt,totl))\n",
    "fw.close()"
   ]
  },
  {
   "cell_type": "code",
   "execution_count": null,
   "id": "76c083cb-ce05-4cfd-b2bf-09a3d7f553e7",
   "metadata": {},
   "outputs": [],
   "source": []
  }
 ],
 "metadata": {
  "kernelspec": {
   "display_name": "Python 3 (ipykernel)",
   "language": "python",
   "name": "python3"
  },
  "language_info": {
   "codemirror_mode": {
    "name": "ipython",
    "version": 3
   },
   "file_extension": ".py",
   "mimetype": "text/x-python",
   "name": "python",
   "nbconvert_exporter": "python",
   "pygments_lexer": "ipython3",
   "version": "3.10.16"
  }
 },
 "nbformat": 4,
 "nbformat_minor": 5
}
