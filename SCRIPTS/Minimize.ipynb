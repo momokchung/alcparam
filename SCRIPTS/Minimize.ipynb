{
 "cells": [
  {
   "cell_type": "code",
   "execution_count": null,
   "id": "eb3c5d8f-66fa-4536-bce0-bf9c90d3f560",
   "metadata": {},
   "outputs": [],
   "source": [
    "import psi4"
   ]
  },
  {
   "cell_type": "code",
   "execution_count": null,
   "id": "562057bc-a87a-4cdf-ae7c-15b38eadc7be",
   "metadata": {},
   "outputs": [],
   "source": [
    "# Define molecule\n",
    "\n",
    "molecule_structure = f\"\"\"\n",
    "0 1\n",
    "C      1.534760    0.194984   -0.039319\n",
    "C      0.110519   -0.352242   -0.056940\n",
    "O     -0.790868    0.735569   -0.095110\n",
    "H     -1.688362    0.364526   -0.105386\n",
    "H      2.281678   -0.628921   -0.009382\n",
    "H      1.706507    0.840459    0.850655\n",
    "H      1.741450    0.806927   -0.945393\n",
    "H     -0.081746   -0.964158    0.853168\n",
    "H     -0.046385   -0.998034   -0.950264\n",
    "O     -3.511523   -0.366336   -0.126662\n",
    "H     -3.985462   -0.103752   -0.918062\n",
    "H     -4.017396   -0.069390    0.632167\n",
    "\n",
    "no_reorient\n",
    "symmetry c1\n",
    "no_com\n",
    "units ang\n",
    "\"\"\""
   ]
  },
  {
   "cell_type": "code",
   "execution_count": null,
   "id": "0bc18526-7fd4-455a-ad6f-351e8e3ae428",
   "metadata": {},
   "outputs": [],
   "source": [
    "# Optimize\n",
    "\n",
    "method = \"mp2\"\n",
    "basis = \"aug-cc-pVTZ\"\n",
    "psi4.core.set_output_file('output.dat', False)\n",
    "psi4.set_memory('10 GB')\n",
    "psi4.core.set_num_threads(10)\n",
    "\n",
    "psi4.set_options({\n",
    "    'basis': basis,\n",
    "    'd_convergence': 10,\n",
    "})\n",
    "\n",
    "psi4.geometry(molecule_structure)\n",
    "\n",
    "# Perform geometry optimization\n",
    "psi4.optimize(method)"
   ]
  },
  {
   "cell_type": "code",
   "execution_count": null,
   "id": "af2897bf-f921-4ed9-b3ff-a4b36f9e65b6",
   "metadata": {},
   "outputs": [],
   "source": []
  }
 ],
 "metadata": {
  "kernelspec": {
   "display_name": "Python 3 (ipykernel)",
   "language": "python",
   "name": "python3"
  },
  "language_info": {
   "codemirror_mode": {
    "name": "ipython",
    "version": 3
   },
   "file_extension": ".py",
   "mimetype": "text/x-python",
   "name": "python",
   "nbconvert_exporter": "python",
   "pygments_lexer": "ipython3",
   "version": "3.10.14"
  }
 },
 "nbformat": 4,
 "nbformat_minor": 5
}
