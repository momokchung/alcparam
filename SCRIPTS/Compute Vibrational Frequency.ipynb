{
 "cells": [
  {
   "cell_type": "code",
   "execution_count": null,
   "id": "9441d70b",
   "metadata": {},
   "outputs": [],
   "source": [
    "import numpy as np\n",
    "import os\n",
    "import psi4\n",
    "import subprocess"
   ]
  },
  {
   "cell_type": "code",
   "execution_count": null,
   "id": "39c57f5f",
   "metadata": {},
   "outputs": [],
   "source": [
    "cwd = os.getcwd()\n",
    "vibrate_dir = f\"{cwd}/../VIBRATION\"\n",
    "xyz_dir = f\"{cwd}/../XYZ\"\n",
    "os.chdir(vibrate_dir)\n",
    "\n",
    "molecule_name = \"ethanol\"\n",
    "xyz_file = f\"{molecule_name}.xyz\"\n",
    "key_file = f\"{molecule_name}.key\"\n",
    "prm_file = \"amoeba09.prm\""
   ]
  },
  {
   "cell_type": "code",
   "execution_count": null,
   "id": "68fccae5",
   "metadata": {},
   "outputs": [],
   "source": [
    "# Copy xyz, key, and prm files\n",
    "\n",
    "os.system(f\"cp {xyz_dir}/{xyz_file} .\")\n",
    "os.system(f\"cp {xyz_dir}/{key_file} .\")\n",
    "os.system(f\"cp {xyz_dir}/{prm_file} .\")"
   ]
  },
  {
   "cell_type": "code",
   "execution_count": null,
   "id": "392dc9da",
   "metadata": {},
   "outputs": [],
   "source": [
    "# Get coordinate\n",
    "\n",
    "# Open and read the file\n",
    "with open(xyz_file, \"r\") as f:\n",
    "    lines = f.readlines()\n",
    "\n",
    "# Extract atomic data (ignoring first two lines)\n",
    "atomic_data = []\n",
    "for line in lines[1:]:  # Skip first two lines\n",
    "    parts = line.split()\n",
    "    if len(parts) >= 4:  # Ensure the line contains atomic data\n",
    "        element = parts[1]  # Atomic symbol\n",
    "        x, y, z = parts[2], parts[3], parts[4]  # Coordinates\n",
    "        atomic_data.append(f\"{element}  {float(x):10.6f}  {float(y):10.6f}  {float(z):10.6f}\")\n",
    "\n",
    "# Print extracted data\n",
    "atom_txt = \"\"\n",
    "for atom in atomic_data:\n",
    "    atom_txt += atom + \"\\n\""
   ]
  },
  {
   "cell_type": "code",
   "execution_count": null,
   "id": "311279af",
   "metadata": {},
   "outputs": [],
   "source": [
    "# QM setting\n",
    "\n",
    "method = \"mp2\"\n",
    "basis = \"aug-cc-pVTZ\"\n",
    "psi4.core.set_output_file('output.dat', False)\n",
    "psi4.set_memory('10 GB')\n",
    "psi4.core.set_num_threads(10)\n",
    "\n",
    "psi4.set_options({\n",
    "    'basis': basis,\n",
    "    'd_convergence': 10,\n",
    "    \"PROPERTIES_ORIGIN\": [\"COM\"],\n",
    "})"
   ]
  },
  {
   "cell_type": "code",
   "execution_count": null,
   "id": "6d20b16d",
   "metadata": {},
   "outputs": [],
   "source": [
    "# Define molecule\n",
    "\n",
    "molecule_structure = f\"\"\"\n",
    "0 1\n",
    "{atom_txt}\n",
    "no_reorient\n",
    "symmetry c1\n",
    "no_com\n",
    "units ang\n",
    "\"\"\"\n",
    "\n",
    "psi4.geometry(molecule_structure)"
   ]
  },
  {
   "cell_type": "code",
   "execution_count": null,
   "id": "55c886b8",
   "metadata": {},
   "outputs": [],
   "source": [
    "# Compute vibrational frequency\n",
    "\n",
    "energy, wfn = psi4.frequency(method, return_wfn=True)"
   ]
  },
  {
   "cell_type": "code",
   "execution_count": null,
   "id": "53f909a8",
   "metadata": {},
   "outputs": [],
   "source": [
    "# Get vibrational frequency (eigenvalue and eigenvector)\n",
    "\n",
    "# frequencies = wfn.frequency_analysis['omega'].data\n",
    "# modes = wfn.frequency_analysis['q'].data\n",
    "# modes = [m*psi4.constants.bohr2angstroms for m in modes]"
   ]
  },
  {
   "cell_type": "code",
   "execution_count": null,
   "id": "0538126f",
   "metadata": {},
   "outputs": [],
   "source": []
  }
 ],
 "metadata": {
  "kernelspec": {
   "display_name": "p4env",
   "language": "python",
   "name": "python3"
  },
  "language_info": {
   "codemirror_mode": {
    "name": "ipython",
    "version": 3
   },
   "file_extension": ".py",
   "mimetype": "text/x-python",
   "name": "python",
   "nbconvert_exporter": "python",
   "pygments_lexer": "ipython3",
   "version": "3.10.14"
  }
 },
 "nbformat": 4,
 "nbformat_minor": 5
}
