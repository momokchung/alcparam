{
 "cells": [
  {
   "cell_type": "code",
   "execution_count": null,
   "id": "ac99d325-8a55-4119-ab61-55d3d9795f8f",
   "metadata": {},
   "outputs": [],
   "source": [
    "import os\n",
    "import subprocess"
   ]
  },
  {
   "cell_type": "code",
   "execution_count": null,
   "id": "bfccea0c-50c7-4a3d-8893-69c23508c6fe",
   "metadata": {},
   "outputs": [],
   "source": [
    "dimer_name = \"ethanol_dimer\"\n",
    "\n",
    "psi4Exe = \"/home/kchung25/miniconda3/envs/p4env/bin/psi4\"\n",
    "qchemExe = \"/home/kchung25/qchem/bin/qchem\"\n",
    "ncpu = 1\n",
    "\n",
    "cwd = os.getcwd()"
   ]
  },
  {
   "cell_type": "code",
   "execution_count": null,
   "id": "e9e1a2f1-0d32-4dc9-a75e-31c16094130c",
   "metadata": {},
   "outputs": [],
   "source": [
    "# define index and factor\n",
    "\n",
    "index = {\n",
    "    \"ethanol_ethanol\": \"001\",\n",
    "    \"ethanol_WA\": \"002\",\n",
    "    \"ethanol_WD\": \"003\",\n",
    "    \"ethanol_dimer\": \"004\",\n",
    "}\n",
    "\n",
    "factor = [0.8, 0.9, 0.95, 1.0, 1.05, 1.1, 1.2]\n",
    "\n",
    "if dimer_name == \"ethanol_dimer\":\n",
    "    factor = [i+1 for i in range(77)]"
   ]
  },
  {
   "cell_type": "code",
   "execution_count": null,
   "id": "dec319f5-2189-457e-b1d0-7facc55ea7de",
   "metadata": {
    "scrolled": true
   },
   "outputs": [],
   "source": [
    "# MP2\n",
    "\n",
    "mp2Dir = f\"{cwd}/../MP2\"\n",
    "os.chdir(mp2Dir)\n",
    "\n",
    "for f in factor:\n",
    "    fileName = f\"{index[dimer_name]}_{dimer_name}_{f:.2f}_mp2.inp\"\n",
    "    if dimer_name == \"ethanol_dimer\":\n",
    "        fileName = f\"{index[dimer_name]}_{dimer_name}_{f:02d}_mp2.inp\"\n",
    "    subprocess.run([psi4Exe, \"-n\", str(ncpu), fileName], check=True)"
   ]
  },
  {
   "cell_type": "code",
   "execution_count": null,
   "id": "55ca4e71-a456-4579-94bb-e61faa4a294e",
   "metadata": {},
   "outputs": [],
   "source": [
    "# SAPT2+\n",
    "\n",
    "saptDir = f\"{cwd}/../SAPT\"\n",
    "os.chdir(saptDir)\n",
    "\n",
    "for f in factor:\n",
    "    fileName = f\"{index[dimer_name]}_{dimer_name}_{f:.2f}_sapt.inp\"\n",
    "    if dimer_name == \"ethanol_dimer\":\n",
    "        fileName = f\"{index[dimer_name]}_{dimer_name}_{f:02d}_sapt.inp\"\n",
    "    subprocess.run([psi4Exe, \"-n\", str(ncpu), fileName], check=True)"
   ]
  },
  {
   "cell_type": "code",
   "execution_count": null,
   "id": "0b3e8069-cdbe-48b2-969b-726c0e0d5501",
   "metadata": {},
   "outputs": [],
   "source": [
    "# ALMO\n",
    "\n",
    "almoDir = f\"{cwd}/../ALMO\"\n",
    "os.chdir(almoDir)\n",
    "\n",
    "for f in factor:\n",
    "    fileNameIn = f\"{index[dimer_name]}_{dimer_name}_{f:.2f}_almo.inp\"\n",
    "    fileNameOut = f\"{index[dimer_name]}_{dimer_name}_{f:.2f}_almo.out\"\n",
    "    if dimer_name == \"ethanol_dimer\":\n",
    "        fileNameIn = f\"{index[dimer_name]}_{dimer_name}_{f:02d}_almo.inp\"\n",
    "        fileNameOut = f\"{index[dimer_name]}_{dimer_name}_{f:02d}_almo.out\"\n",
    "    subprocess.run([qchemExe, \"-np\", str(ncpu), \"-nt\", str(ncpu), fileNameIn, fileNameOut], check=True)"
   ]
  },
  {
   "cell_type": "code",
   "execution_count": null,
   "id": "d73f6090-f0fd-4973-a773-2f559753a224",
   "metadata": {},
   "outputs": [],
   "source": []
  }
 ],
 "metadata": {
  "kernelspec": {
   "display_name": "Python 3 (ipykernel)",
   "language": "python",
   "name": "python3"
  },
  "language_info": {
   "codemirror_mode": {
    "name": "ipython",
    "version": 3
   },
   "file_extension": ".py",
   "mimetype": "text/x-python",
   "name": "python",
   "nbconvert_exporter": "python",
   "pygments_lexer": "ipython3",
   "version": "3.10.16"
  }
 },
 "nbformat": 4,
 "nbformat_minor": 5
}
