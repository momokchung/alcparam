{
 "cells": [
  {
   "cell_type": "code",
   "execution_count": null,
   "id": "79b7952d",
   "metadata": {},
   "outputs": [],
   "source": [
    "import numpy as np\n",
    "import os\n",
    "import psi4\n",
    "import subprocess"
   ]
  },
  {
   "cell_type": "code",
   "execution_count": null,
   "id": "6fe996eb-bc4e-4c75-a8af-082e47bc8279",
   "metadata": {},
   "outputs": [],
   "source": [
    "cwd = os.getcwd()\n",
    "polar_dir = f\"{cwd}/../POLAR\"\n",
    "xyz_dir = f\"{cwd}/../XYZ\"\n",
    "os.chdir(polar_dir)\n",
    "\n",
    "molecule_name = \"ethanol\"\n",
    "xyz_file = f\"{molecule_name}.xyz\"\n",
    "key_file = f\"{molecule_name}.key\"\n",
    "prm_file = \"amoeba09.prm\"\n",
    "tinker_polarize = \"/Users/moseschung/tinker/source/polarize.x\"\n",
    "\n",
    "amoeba_output = f\"AMOEBA_{molecule_name}_pol.txt\"\n",
    "qm_output = f\"QM_{molecule_name}_pol.txt\""
   ]
  },
  {
   "cell_type": "code",
   "execution_count": null,
   "id": "75a0d338-97be-4065-93cd-f5d34d6466ef",
   "metadata": {},
   "outputs": [],
   "source": [
    "# Copy xyz, key, and prm files\n",
    "os.system(f\"cp {xyz_dir}/{xyz_file} .\")\n",
    "os.system(f\"cp {xyz_dir}/{key_file} .\")\n",
    "os.system(f\"cp {xyz_dir}/{prm_file} .\")"
   ]
  },
  {
   "cell_type": "code",
   "execution_count": null,
   "id": "af1550f1-2b2a-4b25-9680-49976b027692",
   "metadata": {},
   "outputs": [],
   "source": [
    "# Get coordinate\n",
    "\n",
    "# Open and read the file\n",
    "with open(xyz_file, \"r\") as f:\n",
    "    lines = f.readlines()\n",
    "\n",
    "# Extract atomic data (ignoring first two lines)\n",
    "atomic_data = []\n",
    "for line in lines[1:]:  # Skip first two lines\n",
    "    parts = line.split()\n",
    "    if len(parts) >= 4:  # Ensure the line contains atomic data\n",
    "        element = parts[1]  # Atomic symbol\n",
    "        x, y, z = parts[2], parts[3], parts[4]  # Coordinates\n",
    "        atomic_data.append(f\"{element}  {float(x):10.6f}  {float(y):10.6f}  {float(z):10.6f}\")\n",
    "\n",
    "# Print extracted data\n",
    "atom_txt = \"\"\n",
    "for atom in atomic_data:\n",
    "    atom_txt += atom + \"\\n\""
   ]
  },
  {
   "cell_type": "code",
   "execution_count": null,
   "id": "d3709385",
   "metadata": {},
   "outputs": [],
   "source": [
    "# QM setting\n",
    "\n",
    "method = \"mp2\"\n",
    "basis = \"aug-cc-pVTZ\"\n",
    "psi4.core.set_output_file('output.dat', False)\n",
    "psi4.set_memory('10 GB')\n",
    "psi4.core.set_num_threads(10)\n",
    "\n",
    "psi4.set_options({\n",
    "    'basis': basis,\n",
    "    'd_convergence': 10,\n",
    "})"
   ]
  },
  {
   "cell_type": "code",
   "execution_count": null,
   "id": "789d638a",
   "metadata": {},
   "outputs": [],
   "source": [
    "# Define molecule\n",
    "\n",
    "molecule_structure = f\"\"\"\n",
    "0 1\n",
    "{atom_txt}\n",
    "no_reorient\n",
    "symmetry c1\n",
    "no_com\n",
    "units ang\n",
    "\"\"\"\n",
    "\n",
    "psi4.geometry(molecule_structure)"
   ]
  },
  {
   "cell_type": "code",
   "execution_count": null,
   "id": "0fb365d4-9867-4862-8d39-a7ae12ce5bb5",
   "metadata": {},
   "outputs": [],
   "source": [
    "# Compute polarizability\n",
    "\n",
    "pert = 0.001\n",
    "lambdas = [pert, -pert, 2.0*pert, -2.0*pert]\n",
    "perturbed_energies = np.zeros((len(lambdas),3))\n",
    "x_perturbed_dipoles = np.zeros((len(lambdas),3))\n",
    "y_perturbed_dipoles = np.zeros((len(lambdas),3))\n",
    "z_perturbed_dipoles = np.zeros((len(lambdas),3))\n",
    "\n",
    "# start with a reference dipole calculation\n",
    "psi4.properties(method, properties=['dipole'])\n",
    "mu_x, mu_y, mu_z = psi4.core.variable(method + ' DIPOLE')\n",
    "analytic_dipole = np.array([mu_x, mu_y, mu_z])\n",
    "\n",
    "# now compute with different applied fields\n",
    "for step, l in enumerate(lambdas):\n",
    "    # x pertubation\n",
    "    psi4.set_options({\n",
    "        'perturb_h': True,\n",
    "        'perturb_with': 'dipole',\n",
    "        'perturb_dipole': [l, 0., 0.],\n",
    "    })\n",
    "    perturbed_energies[step,0] = psi4.properties(method, properties=['dipole'])\n",
    "    x_perturbed_dipoles[step] = psi4.core.variable(method + ' DIPOLE')\n",
    "    # y pertubation\n",
    "    psi4.set_options({'perturb_dipole': [0., l, 0.],})\n",
    "    perturbed_energies[step,1] = psi4.properties(method, properties=['dipole'])\n",
    "    y_perturbed_dipoles[step] = psi4.core.variable(method + ' DIPOLE')\n",
    "    # z pertubation\n",
    "    psi4.set_options({'perturb_dipole': [0., 0., l],})\n",
    "    perturbed_energies[step,2] = psi4.properties(method, properties=['dipole'])\n",
    "    z_perturbed_dipoles[step] = psi4.core.variable(method + ' DIPOLE')\n",
    "\n",
    "bohr = 0.529177210903\n",
    "\n",
    "a_x_5pt = -(8.0*x_perturbed_dipoles[0] - 8.0*x_perturbed_dipoles[1] - x_perturbed_dipoles[2] + x_perturbed_dipoles[3]) / (12.0*pert) * bohr**3\n",
    "a_y_5pt = -(8.0*y_perturbed_dipoles[0] - 8.0*y_perturbed_dipoles[1] - y_perturbed_dipoles[2] + y_perturbed_dipoles[3]) / (12.0*pert) * bohr**3\n",
    "a_z_5pt = -(8.0*z_perturbed_dipoles[0] - 8.0*z_perturbed_dipoles[1] - z_perturbed_dipoles[2] + z_perturbed_dipoles[3]) / (12.0*pert) * bohr**3\n",
    "alpha_5pt = np.vstack((a_x_5pt, a_y_5pt, a_z_5pt))\n",
    "eigen = np.linalg.eigvals(alpha_5pt)\n"
   ]
  },
  {
   "cell_type": "code",
   "execution_count": null,
   "id": "da1f2466",
   "metadata": {},
   "outputs": [],
   "source": [
    "# print(a_x_5pt)\n",
    "# print(a_y_5pt)\n",
    "# print(a_z_5pt)\n",
    "# print(eigen)"
   ]
  },
  {
   "cell_type": "code",
   "execution_count": null,
   "id": "b3bf6212-4892-4a21-99c3-d6310ddb041e",
   "metadata": {},
   "outputs": [],
   "source": [
    "# Format the output string\n",
    "\n",
    "output_text = f\"\"\" Polarizability Using {method} {basis}\n",
    "\n",
    " Molecular Polarizability Tensor :\n",
    "\n",
    "                {a_x_5pt[0]:10.4f}   {a_x_5pt[1]:10.4f}   {a_x_5pt[2]:10.4f}\n",
    "                {a_y_5pt[0]:10.4f}   {a_y_5pt[1]:10.4f}   {a_y_5pt[2]:10.4f}\n",
    "                {a_z_5pt[0]:10.4f}   {a_z_5pt[1]:10.4f}   {a_z_5pt[2]:10.4f}\n",
    "\n",
    " Polarizability Tensor Eigenvalues :\n",
    "\n",
    "                {eigen[2]:10.4f}   {eigen[1]:10.4f}   {eigen[0]:10.4f}\n",
    "\n",
    " Interactive Molecular Polarizability :   {(eigen[0]+eigen[1]+eigen[2])/3:10.4f}\n",
    "\"\"\"\n",
    "\n",
    "# Write to a file\n",
    "\n",
    "with open(qm_output, \"w\") as file:\n",
    "    file.write(output_text)"
   ]
  },
  {
   "cell_type": "code",
   "execution_count": null,
   "id": "68b1078d-0c62-4b08-9e0c-d613672fcf44",
   "metadata": {},
   "outputs": [],
   "source": [
    "# Compute AMOEBA polarizability and capture output\n",
    "\n",
    "result = subprocess.run(\n",
    "    [tinker_polarize, \"-k\", key_file, xyz_file], \n",
    "    capture_output=True, text=True\n",
    ")\n",
    "\n",
    "# # Print standard output and error\n",
    "# print(\"Standard Output:\\n\", result.stdout)\n",
    "# print(\"Standard Error:\\n\", result.stderr)\n",
    "\n",
    "# Save output\n",
    "with open(amoeba_output, \"w\") as f:\n",
    "    f.write(result.stdout)"
   ]
  },
  {
   "cell_type": "code",
   "execution_count": null,
   "id": "9d9553e2-6cbd-4c68-b2da-487f804c869e",
   "metadata": {},
   "outputs": [],
   "source": [
    "readme_txt = \"\"\"Ethanol molecular polarizability found in CRC Handbook of Chemistry and Physics:\n",
    "\n",
    "alpha = 5.41 (Maryott, A. A., and Buckley, F., U. S. National Bureau of Standards Circular No. 537, 1953)\n",
    "alpha = 5.11 (Applequist, J., Carl, J. R., and Fung, K.-K., J. Am. Chem. Soc., 94, 2952, 1972.)\\n\"\"\"\n",
    "\n",
    "with open(\"0README\", \"w\") as f:\n",
    "    f.write(readme_txt)"
   ]
  },
  {
   "cell_type": "code",
   "execution_count": null,
   "id": "e3d68257-73dc-4d9c-883d-db522b4c08cf",
   "metadata": {},
   "outputs": [],
   "source": []
  }
 ],
 "metadata": {
  "kernelspec": {
   "display_name": "Python 3 (ipykernel)",
   "language": "python",
   "name": "python3"
  },
  "language_info": {
   "codemirror_mode": {
    "name": "ipython",
    "version": 3
   },
   "file_extension": ".py",
   "mimetype": "text/x-python",
   "name": "python",
   "nbconvert_exporter": "python",
   "pygments_lexer": "ipython3",
   "version": "3.10.14"
  }
 },
 "nbformat": 4,
 "nbformat_minor": 5
}
