{
 "cells": [
  {
   "cell_type": "code",
   "execution_count": null,
   "id": "9676780e-9e39-45f9-91c6-659fb521efc2",
   "metadata": {},
   "outputs": [],
   "source": [
    "import numpy as np\n",
    "import os\n",
    "import psi4\n",
    "import subprocess"
   ]
  },
  {
   "cell_type": "code",
   "execution_count": null,
   "id": "5ddc9317-d629-426c-bbe4-964d3f34abb5",
   "metadata": {},
   "outputs": [],
   "source": [
    "cwd = os.getcwd()\n",
    "pot_dir = f\"{cwd}/../POTENTIAL\"\n",
    "xyz_dir = f\"{cwd}/../XYZ\"\n",
    "os.chdir(pot_dir)\n",
    "\n",
    "molecule_name = \"ethanol\"\n",
    "xyz_file = f\"{molecule_name}.xyz\"\n",
    "key_file = f\"{molecule_name}.key\"\n",
    "prm_file = \"amoeba09.prm\"\n",
    "tinker_potential = \"/Users/moseschung/tinker/source/potential.x\"\n",
    "\n",
    "amoeba_output = f\"AMOEBA_{molecule_name}_potential.txt\"\n",
    "\n",
    "# Make sure the numbers match the potential.x output:\n",
    "num_create_grid = \"1\"        # (1) Create Grid Points for Computing Potential\n",
    "num_compare_potential = \"5\"  # (5) Compare a Model Potential to a Target Grid"
   ]
  },
  {
   "cell_type": "code",
   "execution_count": null,
   "id": "8c36d779-32ed-4dab-be47-10d2dbab13da",
   "metadata": {},
   "outputs": [],
   "source": [
    "# Copy xyz, key, and prm files\n",
    "\n",
    "os.system(f\"cp {xyz_dir}/{xyz_file} .\")\n",
    "os.system(f\"cp {xyz_dir}/{key_file} .\")\n",
    "os.system(f\"cp {xyz_dir}/{prm_file} .\")"
   ]
  },
  {
   "cell_type": "code",
   "execution_count": null,
   "id": "9da90489-8074-4a7f-8733-36e298cbcb8c",
   "metadata": {},
   "outputs": [],
   "source": [
    "# Get grid\n",
    "\n",
    "result = subprocess.run(\n",
    "    [tinker_potential, num_create_grid, \"-k\", key_file, xyz_file], \n",
    "    capture_output=True, text=True\n",
    ")\n",
    "\n",
    "# # Print standard output and error\n",
    "# print(\"Standard Output:\\n\", result.stdout)\n",
    "# print(\"Standard Error:\\n\", result.stderr)"
   ]
  },
  {
   "cell_type": "code",
   "execution_count": null,
   "id": "d029cc02-0743-41c9-9cc4-5d1a354cc63c",
   "metadata": {},
   "outputs": [],
   "source": [
    "# Get coordinate\n",
    "\n",
    "# Open and read the file\n",
    "with open(xyz_file, \"r\") as f:\n",
    "    lines = f.readlines()\n",
    "\n",
    "# Extract atomic data (ignoring first two lines)\n",
    "atomic_data = []\n",
    "for line in lines[1:]:  # Skip first two lines\n",
    "    parts = line.split()\n",
    "    if len(parts) >= 4:  # Ensure the line contains atomic data\n",
    "        element = parts[1]  # Atomic symbol\n",
    "        x, y, z = parts[2], parts[3], parts[4]  # Coordinates\n",
    "        atomic_data.append(f\"{element}  {float(x):10.6f}  {float(y):10.6f}  {float(z):10.6f}\")\n",
    "\n",
    "# Print extracted data\n",
    "atom_txt = \"\"\n",
    "for atom in atomic_data:\n",
    "    atom_txt += atom + \"\\n\""
   ]
  },
  {
   "cell_type": "code",
   "execution_count": null,
   "id": "0d37367b-e8ec-45d2-8b45-0e784063cdd0",
   "metadata": {},
   "outputs": [],
   "source": [
    "# QM setting\n",
    "\n",
    "method = \"mp2\"\n",
    "basis = \"aug-cc-pVTZ\"\n",
    "psi4.core.set_output_file('output.dat', False)\n",
    "psi4.set_memory('10 GB')\n",
    "psi4.core.set_num_threads(10)\n",
    "\n",
    "psi4.set_options({\n",
    "    'basis': basis,\n",
    "    'd_convergence': 10,\n",
    "})"
   ]
  },
  {
   "cell_type": "code",
   "execution_count": null,
   "id": "1ab5db25-c02d-4f97-82f4-9a69bdebee0f",
   "metadata": {},
   "outputs": [],
   "source": [
    "# Define molecule\n",
    "\n",
    "molecule_structure = f\"\"\"\n",
    "0 1\n",
    "{atom_txt}\n",
    "no_reorient\n",
    "symmetry c1\n",
    "no_com\n",
    "units ang\n",
    "\"\"\"\n",
    "\n",
    "psi4.geometry(molecule_structure)"
   ]
  },
  {
   "cell_type": "code",
   "execution_count": null,
   "id": "b3a0e8e5-6e1f-4b4c-be44-f3ec8c878db0",
   "metadata": {},
   "outputs": [],
   "source": [
    "# Compute potential\n",
    "\n",
    "os.system(f\"cp {molecule_name}.grid grid.dat\")\n",
    "\n",
    "grad, wfn = psi4.gradient(method, return_wfn=True)\n",
    "psi4.oeprop(wfn, 'GRID_ESP')"
   ]
  },
  {
   "cell_type": "code",
   "execution_count": null,
   "id": "c867f9c1-f1e4-487c-8bc2-2cdaee8d34fa",
   "metadata": {},
   "outputs": [],
   "source": [
    "# Convert psi4 potential to Tinker potential\n",
    "\n",
    "def read_grid(file_path):\n",
    "    \"\"\" Reads a grid file with x, y, z coordinates. \"\"\"\n",
    "    grid_data = np.loadtxt(file_path)  # Reads all lines into a NumPy array\n",
    "    return grid_data\n",
    "\n",
    "def read_potential(file_path):\n",
    "    \"\"\" Reads a file containing electrostatic potential values. \"\"\"\n",
    "    potential_data = np.loadtxt(file_path)  # Reads all ESP values\n",
    "    return potential_data\n",
    "\n",
    "def write_pot_file(grid, potential, output_file=\"output.pot\"):\n",
    "    \"\"\" Writes the Tinker POT file using grid coordinates and ESP values. \"\"\"\n",
    "    num_points = len(grid)  # Number of grid points\n",
    "    hartree = 627.509474063\n",
    "\n",
    "    with open(output_file, \"w\") as pot_file:\n",
    "        # Header: Number of points + Title\n",
    "        pot_file.write(f\"   {num_points}  Electrostatic Potential from Grid and ESP Files\\n\")\n",
    "\n",
    "        # Writing data in Tinker POT format\n",
    "        for i in range(num_points):\n",
    "            x, y, z = grid[i]  # Extract coordinates\n",
    "            pot = potential[i]  # Extract corresponding ESP value\n",
    "            pot_file.write(f\"{i+1:8d}   {x:12.6f}   {y:12.6f}   {z:12.6f}   {pot*hartree:12.6f}\\n\")\n",
    "\n",
    "    print(f\"POT file successfully written to: {output_file}\")\n",
    "\n",
    "# Read data\n",
    "grid = read_grid(\"grid.dat\")\n",
    "potential = read_potential(\"grid_esp.dat\")\n",
    "\n",
    "# Ensure the number of grid points matches the number of potentials\n",
    "if len(grid) != len(potential):\n",
    "    raise ValueError(\"Mismatch between number of grid points and potential values!\")\n",
    "\n",
    "# Write the POT file\n",
    "write_pot_file(grid, potential, f\"{molecule_name}.pot\")"
   ]
  },
  {
   "cell_type": "code",
   "execution_count": null,
   "id": "7e452c12-deb6-4002-afb5-4c54febfb66a",
   "metadata": {},
   "outputs": [],
   "source": [
    "# Compare a Model Potential to a Target Grid\n",
    "\n",
    "result = subprocess.run(\n",
    "    [tinker_potential, num_compare_potential, \"-k\", key_file, xyz_file, f\"{molecule_name}.pot\", \"N\"], \n",
    "    capture_output=True, text=True\n",
    ")\n",
    "\n",
    "# # Print standard output and error\n",
    "# print(\"Standard Output:\\n\", result.stdout)\n",
    "# print(\"Standard Error:\\n\", result.stderr)\n",
    "\n",
    "\n",
    "# Save output\n",
    "with open(amoeba_output, \"w\") as f:\n",
    "    f.write(result.stdout)"
   ]
  },
  {
   "cell_type": "code",
   "execution_count": null,
   "id": "d4b00c41-61f6-4dcf-a5b1-6ae002d32072",
   "metadata": {},
   "outputs": [],
   "source": []
  }
 ],
 "metadata": {
  "kernelspec": {
   "display_name": "Python 3 (ipykernel)",
   "language": "python",
   "name": "python3"
  },
  "language_info": {
   "codemirror_mode": {
    "name": "ipython",
    "version": 3
   },
   "file_extension": ".py",
   "mimetype": "text/x-python",
   "name": "python",
   "nbconvert_exporter": "python",
   "pygments_lexer": "ipython3",
   "version": "3.10.14"
  }
 },
 "nbformat": 4,
 "nbformat_minor": 5
}
