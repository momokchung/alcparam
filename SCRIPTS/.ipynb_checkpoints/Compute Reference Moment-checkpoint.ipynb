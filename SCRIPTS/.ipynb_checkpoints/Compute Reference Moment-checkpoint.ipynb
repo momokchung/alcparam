{
 "cells": [
  {
   "cell_type": "code",
   "execution_count": null,
   "id": "cd09feab-6711-4bf2-8d2d-5de6ab2ec1cb",
   "metadata": {},
   "outputs": [],
   "source": [
    "import numpy as np\n",
    "import os\n",
    "import psi4\n",
    "import subprocess"
   ]
  },
  {
   "cell_type": "code",
   "execution_count": null,
   "id": "887e9f7a-3c7b-409d-86dc-6f485993ca3a",
   "metadata": {},
   "outputs": [],
   "source": [
    "cwd = os.getcwd()\n",
    "moment_dir = f\"{cwd}/../MOMENT\"\n",
    "xyz_dir = f\"{cwd}/../XYZ\"\n",
    "os.chdir(moment_dir)\n",
    "\n",
    "molecule_name = \"ethanol\"\n",
    "xyz_file = f\"{molecule_name}.xyz\"\n",
    "key_file = f\"{molecule_name}.key\"\n",
    "prm_file = \"amoeba09.prm\"\n",
    "tinker_analyze = \"/Users/moseschung/tinker/source/analyze.x\"\n",
    "\n",
    "amoeba_output = f\"AMOEBA_{molecule_name}_moment.txt\"\n",
    "qm_output = f\"QM_{molecule_name}_moment.txt\""
   ]
  },
  {
   "cell_type": "code",
   "execution_count": null,
   "id": "9bfcb339-d6d2-4383-bfa9-55f2024a9143",
   "metadata": {},
   "outputs": [],
   "source": [
    "# Copy xyz, key, and prm files\n",
    "\n",
    "os.system(f\"cp {xyz_dir}/{xyz_file} .\")\n",
    "os.system(f\"cp {xyz_dir}/{key_file} .\")\n",
    "os.system(f\"cp {xyz_dir}/{prm_file} .\")"
   ]
  },
  {
   "cell_type": "code",
   "execution_count": null,
   "id": "8c98b956-8a2b-43ce-874a-8e98487ad685",
   "metadata": {},
   "outputs": [],
   "source": [
    "# Get coordinate\n",
    "\n",
    "# Open and read the file\n",
    "with open(xyz_file, \"r\") as f:\n",
    "    lines = f.readlines()\n",
    "\n",
    "# Extract atomic data (ignoring first two lines)\n",
    "atomic_data = []\n",
    "for line in lines[1:]:  # Skip first two lines\n",
    "    parts = line.split()\n",
    "    if len(parts) >= 4:  # Ensure the line contains atomic data\n",
    "        element = parts[1]  # Atomic symbol\n",
    "        x, y, z = parts[2], parts[3], parts[4]  # Coordinates\n",
    "        atomic_data.append(f\"{element}  {float(x):10.6f}  {float(y):10.6f}  {float(z):10.6f}\")\n",
    "\n",
    "# Print extracted data\n",
    "atom_txt = \"\"\n",
    "for atom in atomic_data:\n",
    "    atom_txt += atom + \"\\n\""
   ]
  },
  {
   "cell_type": "code",
   "execution_count": null,
   "id": "a254dfb2-86c7-4ac4-b9f7-bdf2354192f7",
   "metadata": {},
   "outputs": [],
   "source": [
    "# QM setting\n",
    "\n",
    "method = \"mp2\"\n",
    "basis = \"aug-cc-pVTZ\"\n",
    "psi4.core.set_output_file('output.dat', False)\n",
    "psi4.set_memory('10 GB')\n",
    "psi4.core.set_num_threads(10)\n",
    "\n",
    "psi4.set_options({\n",
    "    'basis': basis,\n",
    "    'd_convergence': 10,\n",
    "    \"PROPERTIES_ORIGIN\": [\"COM\"],\n",
    "})"
   ]
  },
  {
   "cell_type": "code",
   "execution_count": null,
   "id": "6f9fe1bc-6fcd-4c85-9a4b-bc0e9e0f575e",
   "metadata": {},
   "outputs": [],
   "source": [
    "# Define molecule\n",
    "\n",
    "molecule_structure = f\"\"\"\n",
    "0 1\n",
    "{atom_txt}\n",
    "no_reorient\n",
    "symmetry c1\n",
    "no_com\n",
    "units ang\n",
    "\"\"\"\n",
    "\n",
    "psi4.geometry(molecule_structure)"
   ]
  },
  {
   "cell_type": "code",
   "execution_count": null,
   "id": "d863edde-fed6-499a-bc6f-e18451fc4fb3",
   "metadata": {},
   "outputs": [],
   "source": [
    "# Compute dipole and quadrupole\n",
    "\n",
    "psi4.properties(method, properties=['dipole', 'quadrupole'])\n",
    "dipole = psi4.core.variable(method + ' DIPOLE')\n",
    "quadrupole = psi4.core.variable(method + ' quadrupole')"
   ]
  },
  {
   "cell_type": "code",
   "execution_count": null,
   "id": "f1df95e3-e7cf-433c-b738-4beb7e089dab",
   "metadata": {},
   "outputs": [],
   "source": [
    "# Convert to Tinker units\n",
    "\n",
    "dipmom_au2debye = 2.541746451895025916414946904 # reference: https://psicode.org/psi4manual/master/autodoc_physconst.html\n",
    "quadmom_au2bkhm = 1.3450342976                 # reference: https://myweb.liu.edu/~nmatsuna/gamess/refs/how.to.prop.html\n",
    "\n",
    "dipole = dipole * dipmom_au2debye\n",
    "quadrupole = quadrupole * quadmom_au2bkhm"
   ]
  },
  {
   "cell_type": "code",
   "execution_count": null,
   "id": "cee19883-fef7-450b-a169-b85f4f6ab2cf",
   "metadata": {},
   "outputs": [],
   "source": [
    "# Convert to traceless quadrupole\n",
    "\n",
    "Q_xx = quadrupole[0][0]\n",
    "Q_yy = quadrupole[1][1]\n",
    "Q_zz = quadrupole[2][2]\n",
    "\n",
    "# Compute the trace of the quadrupole tensor\n",
    "trace = Q_xx + Q_yy + Q_zz\n",
    "\n",
    "# Compute the traceless quadrupole components:\n",
    "Q_xx = Q_xx - trace / 3.0\n",
    "Q_yy = Q_yy - trace / 3.0\n",
    "Q_zz = Q_zz - trace / 3.0\n",
    "\n",
    "quadrupole[0][0] = Q_xx\n",
    "quadrupole[1][1] = Q_yy\n",
    "quadrupole[2][2] = Q_zz"
   ]
  },
  {
   "cell_type": "code",
   "execution_count": null,
   "id": "5d4abf2d-10da-475c-9e4d-0d4cc2d25f48",
   "metadata": {},
   "outputs": [],
   "source": [
    "# Format the output string\n",
    "\n",
    "output_text = f\"\"\" Multipole Moments Using {method} {basis}\n",
    "\n",
    " Dipole X,Y,Z-Components :             {dipole[0]:10.3f}   {dipole[1]:10.3f}   {dipole[2]:10.3f}\n",
    "\n",
    " Quadrupole Moment Tensor :            {quadrupole[0][0]:10.3f}   {quadrupole[0][1]:10.3f}   {quadrupole[0][2]:10.3f}\n",
    "      (Buckinghams)                    {quadrupole[1][0]:10.3f}   {quadrupole[1][1]:10.3f}   {quadrupole[1][2]:10.3f}\n",
    "                                       {quadrupole[2][0]:10.3f}   {quadrupole[2][1]:10.3f}   {quadrupole[2][2]:10.3f}\n",
    "\"\"\"\n",
    "\n",
    "# Write to a file\n",
    "\n",
    "with open(qm_output, \"w\") as file:\n",
    "    file.write(output_text)"
   ]
  },
  {
   "cell_type": "code",
   "execution_count": null,
   "id": "0411267f-925c-461f-9be3-38da0f24269c",
   "metadata": {},
   "outputs": [],
   "source": [
    "# Compute AMOEBA moment and capture output\n",
    "\n",
    "result = subprocess.run(\n",
    "    [tinker_analyze, \"-k\", key_file, xyz_file, \"m\"], \n",
    "    capture_output=True, text=True\n",
    ")\n",
    "\n",
    "# # Print standard output and error\n",
    "# print(\"Standard Output:\\n\", result.stdout)\n",
    "# print(\"Standard Error:\\n\", result.stderr)\n",
    "\n",
    "# Save output\n",
    "with open(amoeba_output, \"w\") as f:\n",
    "    f.write(result.stdout)"
   ]
  },
  {
   "cell_type": "code",
   "execution_count": null,
   "id": "e2f1ad2f-e59b-485d-af0f-772670dfe4cf",
   "metadata": {},
   "outputs": [],
   "source": []
  }
 ],
 "metadata": {
  "kernelspec": {
   "display_name": "Python 3 (ipykernel)",
   "language": "python",
   "name": "python3"
  },
  "language_info": {
   "codemirror_mode": {
    "name": "ipython",
    "version": 3
   },
   "file_extension": ".py",
   "mimetype": "text/x-python",
   "name": "python",
   "nbconvert_exporter": "python",
   "pygments_lexer": "ipython3",
   "version": "3.10.14"
  }
 },
 "nbformat": 4,
 "nbformat_minor": 5
}
