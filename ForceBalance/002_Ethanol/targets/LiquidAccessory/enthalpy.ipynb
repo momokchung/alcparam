{
 "cells": [
  {
   "cell_type": "code",
   "execution_count": null,
   "id": "f15fe13a",
   "metadata": {},
   "outputs": [],
   "source": [
    "# Enthalpy of vaporization:\n",
    "# https://webbook.nist.gov/cgi/cbook.cgi?ID=C64175&Mask=4\n",
    "# Majer, V.; Svoboda, V., Enthalpies of Vaporization of Organic Compounds: A Critical Review and Data Compilation, Blackwell Scientific Publications, Oxford, 1985, 300. [all data]"
   ]
  },
  {
   "cell_type": "code",
   "execution_count": null,
   "id": "62baa64f",
   "metadata": {},
   "outputs": [],
   "source": [
    "import numpy as np\n",
    "\n",
    "def enthalpy_of_vaporization(T, A, alpha, beta, T_c):\n",
    "    \"\"\"\n",
    "    Calculate the enthalpy of vaporization at temperature T.\n",
    "\n",
    "    Parameters:\n",
    "    T : float or np.ndarray\n",
    "        Temperature in Kelvin\n",
    "    A : float\n",
    "        Pre-exponential factor (units of enthalpy, e.g. kJ/mol)\n",
    "    alpha : float\n",
    "        Exponential decay coefficient\n",
    "    beta : float\n",
    "        Power-law exponent\n",
    "    T_c : float\n",
    "        Critical temperature in Kelvin\n",
    "\n",
    "    Returns:\n",
    "    float or np.ndarray\n",
    "        Enthalpy of vaporization ΔHvap at temperature T\n",
    "    \"\"\"\n",
    "    T_r = T / T_c\n",
    "    return A * np.exp(-alpha * T_r) * (1 - T_r) ** beta"
   ]
  },
  {
   "cell_type": "code",
   "execution_count": null,
   "id": "e0463812",
   "metadata": {},
   "outputs": [],
   "source": [
    "# Example parameters for ethanol (hypothetical)\n",
    "T = 298.  # K\n",
    "T_c = 513.9  # K for ethanol\n",
    "A = 50.43     # Example A value in kJ/mol\n",
    "alpha = -0.4475  # Example value\n",
    "beta = 0.4989  # Example value\n",
    "\n",
    "delta_Hvap = enthalpy_of_vaporization(T, A, alpha, beta, T_c)\n",
    "print(f\"ΔHvap at {T} K: {delta_Hvap:.2f} kJ/mol\")"
   ]
  },
  {
   "cell_type": "code",
   "execution_count": null,
   "id": "ba73b217",
   "metadata": {},
   "outputs": [],
   "source": []
  }
 ],
 "metadata": {
  "kernelspec": {
   "display_name": "py310",
   "language": "python",
   "name": "python3"
  },
  "language_info": {
   "codemirror_mode": {
    "name": "ipython",
    "version": 3
   },
   "file_extension": ".py",
   "mimetype": "text/x-python",
   "name": "python",
   "nbconvert_exporter": "python",
   "pygments_lexer": "ipython3",
   "version": "3.10.13"
  }
 },
 "nbformat": 4,
 "nbformat_minor": 5
}
